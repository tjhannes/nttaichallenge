{
 "cells": [
  {
   "cell_type": "markdown",
   "metadata": {},
   "source": [
    "# Covid19 Impact on Oil Prices"
   ]
  },
  {
   "cell_type": "code",
   "execution_count": 120,
   "metadata": {},
   "outputs": [],
   "source": [
    "import numpy as np\n",
    "import pandas as pd\n",
    "from statsmodels.tsa.arima_model import ARIMA\n",
    "from sklearn.metrics import mean_squared_error\n",
    "from datetime import date, timedelta\n",
    "\n",
    "%matplotlib inline\n",
    "import matplotlib.pyplot as plt"
   ]
  },
  {
   "cell_type": "code",
   "execution_count": 106,
   "metadata": {},
   "outputs": [
    {
     "name": "stderr",
     "output_type": "stream",
     "text": [
      "C:\\Users\\Johannes\\Anaconda3\\lib\\site-packages\\ipykernel_launcher.py:6: SettingWithCopyWarning: \n",
      "A value is trying to be set on a copy of a slice from a DataFrame.\n",
      "Try using .loc[row_indexer,col_indexer] = value instead\n",
      "\n",
      "See the caveats in the documentation: http://pandas.pydata.org/pandas-docs/stable/indexing.html#indexing-view-versus-copy\n",
      "  \n"
     ]
    }
   ],
   "source": [
    "df = pd.read_csv('input/COVID-19_train.csv', parse_dates = ['Date'])\n",
    "\n",
    "df_small = df[[\"Date\",\"China_total_cases\",\"China_new_cases\",\"China_total_deaths\",\"China_new_deaths\",\"World_total_cases\",\"World_new_cases\",\"World_total_deaths\",\"World_new_deaths\",\"Price\"]]\n",
    "\n",
    "#df_small.loc[:,\"Date\"] = pd.to_datetime(df_small.Date)\n",
    "df_small['Date'] =  pd.to_datetime(df_small['Date'])\n",
    "df_small.set_index(df_small.Date, inplace=True)\n",
    "\n",
    "df_series = df_small[[\"Date\",\"Price\"]]\n",
    "df_series.set_index('Date', inplace=True)"
   ]
  },
  {
   "cell_type": "code",
   "execution_count": 107,
   "metadata": {},
   "outputs": [
    {
     "name": "stdout",
     "output_type": "stream",
     "text": [
      "<class 'pandas.core.frame.DataFrame'>\n",
      "DatetimeIndex: 63 entries, 2019-12-31 to 2020-03-31\n",
      "Data columns (total 10 columns):\n",
      "Date                  63 non-null datetime64[ns]\n",
      "China_total_cases     63 non-null int64\n",
      "China_new_cases       63 non-null int64\n",
      "China_total_deaths    63 non-null int64\n",
      "China_new_deaths      63 non-null int64\n",
      "World_total_cases     63 non-null int64\n",
      "World_new_cases       63 non-null int64\n",
      "World_total_deaths    63 non-null int64\n",
      "World_new_deaths      63 non-null int64\n",
      "Price                 63 non-null float64\n",
      "dtypes: datetime64[ns](1), float64(1), int64(8)\n",
      "memory usage: 5.4 KB\n"
     ]
    }
   ],
   "source": [
    "df_small.isnull().sum()\n",
    "df_small.info()"
   ]
  },
  {
   "cell_type": "code",
   "execution_count": 109,
   "metadata": {},
   "outputs": [
    {
     "data": {
      "text/plain": [
       "<matplotlib.axes._subplots.AxesSubplot at 0x2165edac668>"
      ]
     },
     "execution_count": 109,
     "metadata": {},
     "output_type": "execute_result"
    },
    {
     "data": {
      "image/png": "[encoded data removed]",
      "text/plain": [
       "<Figure size 432x288 with 1 Axes>"
      ]
     },
     "metadata": {
      "needs_background": "light"
     },
     "output_type": "display_data"
    }
   ],
   "source": [
    "df_series.plot()"
   ]
  },
  {
   "cell_type": "code",
   "execution_count": 110,
   "metadata": {},
   "outputs": [
    {
     "name": "stderr",
     "output_type": "stream",
     "text": [
      "C:\\Users\\Johannes\\Anaconda3\\lib\\site-packages\\statsmodels\\tsa\\base\\tsa_model.py:219: ValueWarning: A date index has been provided, but it has no associated frequency information and so will be ignored when e.g. forecasting.\n",
      "  ' ignored when e.g. forecasting.', ValueWarning)\n",
      "C:\\Users\\Johannes\\Anaconda3\\lib\\site-packages\\statsmodels\\tsa\\base\\tsa_model.py:219: ValueWarning: A date index has been provided, but it has no associated frequency information and so will be ignored when e.g. forecasting.\n",
      "  ' ignored when e.g. forecasting.', ValueWarning)\n"
     ]
    },
    {
     "name": "stdout",
     "output_type": "stream",
     "text": [
      "                             ARIMA Model Results                              \n",
      "==============================================================================\n",
      "Dep. Variable:                D.Price   No. Observations:                   62\n",
      "Model:                 ARIMA(5, 1, 0)   Log Likelihood                 177.602\n",
      "Method:                       css-mle   S.D. of innovations              0.013\n",
      "Date:                Sun, 07 Jun 2020   AIC                           -341.204\n",
      "Time:                        20:50:19   BIC                           -326.314\n",
      "Sample:                             1   HQIC                          -335.358\n",
      "                                                                              \n",
      "=================================================================================\n",
      "                    coef    std err          z      P>|z|      [0.025      0.975]\n",
      "---------------------------------------------------------------------------------\n",
      "const            -0.0735      0.064     -1.156      0.253      -0.198       0.051\n",
      "ar.L1.D.Price     0.9639      0.135      7.137      0.000       0.699       1.229\n",
      "ar.L2.D.Price     0.1577      0.186      0.850      0.399      -0.206       0.521\n",
      "ar.L3.D.Price    -0.3836      0.183     -2.099      0.040      -0.742      -0.025\n",
      "ar.L4.D.Price     0.2202      0.187      1.177      0.244      -0.146       0.587\n",
      "ar.L5.D.Price     0.0277      0.140      0.198      0.843      -0.246       0.302\n",
      "                                    Roots                                    \n",
      "=============================================================================\n",
      "                  Real          Imaginary           Modulus         Frequency\n",
      "-----------------------------------------------------------------------------\n",
      "AR.1            1.0121           -0.0000j            1.0121           -0.0000\n",
      "AR.2           -1.4748           -0.0000j            1.4748           -0.5000\n",
      "AR.3            0.9740           -1.2705j            1.6009           -0.1459\n",
      "AR.4            0.9740           +1.2705j            1.6009            0.1459\n",
      "AR.5           -9.4234           -0.0000j            9.4234           -0.5000\n",
      "-----------------------------------------------------------------------------\n"
     ]
    }
   ],
   "source": [
    "# fit model\n",
    "model = ARIMA(df_series, order=(5,1,0))\n",
    "model_fit = model.fit(disp=0)\n",
    "print(model_fit.summary())"
   ]
  },
  {
   "cell_type": "code",
   "execution_count": 114,
   "metadata": {},
   "outputs": [
    {
     "name": "stdout",
     "output_type": "stream",
     "text": [
      "predicted=56.078476, expected=56.097150\n",
      "predicted=56.030883, expected=56.024400\n",
      "predicted=55.950281, expected=55.948150\n",
      "predicted=55.869741, expected=55.863000\n",
      "predicted=55.781239, expected=55.754850\n",
      "predicted=55.639410, expected=55.594500\n"
     ]
    },
    {
     "name": "stderr",
     "output_type": "stream",
     "text": [
      "C:\\Users\\Johannes\\Anaconda3\\lib\\site-packages\\statsmodels\\base\\model.py:492: HessianInversionWarning: Inverting hessian failed, no bse or cov_params available\n",
      "  'available', HessianInversionWarning)\n",
      "C:\\Users\\Johannes\\Anaconda3\\lib\\site-packages\\statsmodels\\base\\model.py:512: ConvergenceWarning: Maximum Likelihood optimization failed to converge. Check mle_retvals\n",
      "  \"Check mle_retvals\", ConvergenceWarning)\n"
     ]
    },
    {
     "name": "stdout",
     "output_type": "stream",
     "text": [
      "predicted=55.394312, expected=55.451750\n",
      "predicted=55.319552, expected=55.310300\n",
      "predicted=55.166716, expected=55.179850\n",
      "predicted=55.046673, expected=55.046450\n",
      "predicted=54.916925, expected=54.896700\n",
      "predicted=54.743884, expected=54.737300\n",
      "predicted=54.577657, expected=54.557350\n"
     ]
    },
    {
     "name": "stderr",
     "output_type": "stream",
     "text": [
      "C:\\Users\\Johannes\\Anaconda3\\lib\\site-packages\\statsmodels\\base\\model.py:492: HessianInversionWarning: Inverting hessian failed, no bse or cov_params available\n",
      "  'available', HessianInversionWarning)\n",
      "C:\\Users\\Johannes\\Anaconda3\\lib\\site-packages\\statsmodels\\base\\model.py:512: ConvergenceWarning: Maximum Likelihood optimization failed to converge. Check mle_retvals\n",
      "  \"Check mle_retvals\", ConvergenceWarning)\n"
     ]
    },
    {
     "name": "stdout",
     "output_type": "stream",
     "text": [
      "predicted=54.374034, expected=54.415350\n",
      "predicted=54.280957, expected=54.246500\n",
      "predicted=54.088201, expected=54.095650\n",
      "predicted=53.933200, expected=53.942950\n",
      "predicted=53.797840, expected=53.783750\n",
      "predicted=53.625857, expected=53.597000\n",
      "predicted=53.411699, expected=53.407750\n",
      "predicted=53.217181, expected=53.211750\n",
      "predicted=53.020882, expected=53.058650\n",
      "Test MSE: 0.001\n"
     ]
    },
    {
     "data": {
      "image/png": "[encoded data removed]",
      "text/plain": [
       "<Figure size 432x288 with 1 Axes>"
      ]
     },
     "metadata": {
      "needs_background": "light"
     },
     "output_type": "display_data"
    }
   ],
   "source": [
    "# https://machinelearningmastery.com/arima-for-time-series-forecasting-with-python/\n",
    "X = df_series.values\n",
    "size = int(len(X) * 0.66)\n",
    "train, test = X[0:size], X[size:len(X)]\n",
    "history = [x for x in train]\n",
    "predictions = list()\n",
    "for t in range(len(test)):\n",
    "    model = ARIMA(history, order=(5,1,0))\n",
    "    model_fit = model.fit(disp=0)\n",
    "    output = model_fit.forecast()\n",
    "    yhat = output[0]\n",
    "    predictions.append(yhat)\n",
    "    obs = test[t]\n",
    "    history.append(obs)\n",
    "    print('predicted=%f, expected=%f' % (yhat, obs))\n",
    "error = mean_squared_error(test, predictions)\n",
    "print('Test MSE: %.3f' % error)\n",
    "# plot\n",
    "plt.plot(test)\n",
    "plt.plot(predictions, color='red')\n",
    "plt.show()"
   ]
  },
  {
   "cell_type": "code",
   "execution_count": 144,
   "metadata": {},
   "outputs": [
    {
     "name": "stdout",
     "output_type": "stream",
     "text": [
      "predicted:  [52.90619039]\n",
      "predicted:  [52.76237367]\n",
      "predicted:  [52.60893634]\n",
      "predicted:  [52.45660267]\n",
      "predicted:  [52.3018256]\n",
      "predicted:  [52.15048722]\n",
      "predicted:  [51.9997602]\n",
      "predicted:  [51.85107008]\n",
      "predicted:  [51.70259586]\n",
      "predicted:  [51.55509984]\n",
      "predicted:  [51.40802013]\n",
      "predicted:  [51.26187474]\n",
      "predicted:  [51.11641692]\n",
      "predicted:  [50.97182553]\n",
      "predicted:  [50.82793106]\n",
      "predicted:  [50.6847932]\n",
      "predicted:  [50.5423338]\n",
      "predicted:  [50.40058561]\n",
      "predicted:  [50.25951241]\n",
      "predicted:  [50.11912349]\n",
      "predicted:  [49.97939393]\n",
      "predicted:  [49.84032054]\n",
      "predicted:  [49.70188578]\n",
      "predicted:  [49.56408319]\n",
      "predicted:  [49.42689991]\n",
      "predicted:  [49.2903281]\n",
      "predicted:  [49.15435687]\n",
      "predicted:  [49.01897771]\n",
      "predicted:  [48.88418083]\n",
      "predicted:  [48.74995775]\n",
      "predicted:  [48.61629953]\n",
      "predicted:  [48.48319794]\n",
      "predicted:  [48.35064466]\n",
      "predicted:  [48.21863176]\n",
      "predicted:  [48.08715139]\n",
      "predicted:  [47.95619598]\n",
      "predicted:  [47.82575808]\n"
     ]
    },
    {
     "data": {
      "image/png": "[encoded data removed]",
      "text/plain": [
       "<Figure size 432x288 with 1 Axes>"
      ]
     },
     "metadata": {
      "needs_background": "light"
     },
     "output_type": "display_data"
    }
   ],
   "source": [
    "# predict unseen data\n",
    "train = df_series.values\n",
    "history = [x for x in train]\n",
    "predictions = list()\n",
    "for t in range(37):\n",
    "    model = ARIMA(history, order=(5,1,0))\n",
    "    model_fit = model.fit(disp=0)\n",
    "    output = model_fit.forecast()\n",
    "    yhat = output[0]\n",
    "    predictions.append(yhat)\n",
    "    history.append(yhat)\n",
    "    print('predicted: ',yhat)\n",
    "          \n",
    "plt.plot(predictions, color='red')\n",
    "plt.show()"
   ]
  },
  {
   "cell_type": "code",
   "execution_count": 147,
   "metadata": {},
   "outputs": [
    {
     "name": "stdout",
     "output_type": "stream",
     "text": [
      "('2020-04-01', '52.906')\n",
      "('2020-04-02', '52.762')\n",
      "('2020-04-03', '52.608')\n",
      "('2020-04-04', '52.456')\n",
      "('2020-04-05', '52.301')\n",
      "('2020-04-06', '52.150')\n",
      "('2020-04-07', '51.999')\n",
      "('2020-04-08', '51.851')\n",
      "('2020-04-09', '51.702')\n",
      "('2020-04-10', '51.555')\n",
      "('2020-04-11', '51.408')\n",
      "('2020-04-12', '51.261')\n",
      "('2020-04-13', '51.116')\n",
      "('2020-04-14', '50.971')\n",
      "('2020-04-15', '50.827')\n",
      "('2020-04-16', '50.684')\n",
      "('2020-04-17', '50.542')\n",
      "('2020-04-18', '50.400')\n",
      "('2020-04-19', '50.259')\n",
      "('2020-04-20', '50.119')\n",
      "('2020-04-21', '49.979')\n",
      "('2020-04-22', '49.840')\n",
      "('2020-04-23', '49.701')\n",
      "('2020-04-24', '49.564')\n",
      "('2020-04-25', '49.426')\n",
      "('2020-04-26', '49.290')\n",
      "('2020-04-27', '49.154')\n",
      "('2020-04-28', '49.018')\n",
      "('2020-04-29', '48.884')\n",
      "('2020-04-30', '48.749')\n",
      "('2020-05-01', '48.616')\n",
      "('2020-05-02', '48.483')\n",
      "('2020-05-03', '48.350')\n",
      "('2020-05-04', '48.218')\n",
      "('2020-05-05', '48.087')\n",
      "('2020-05-06', '47.956')\n",
      "('2020-05-07', '47.825')\n"
     ]
    },
    {
     "ename": "IndexError",
     "evalue": "list index out of range",
     "output_type": "error",
     "traceback": [
      "\u001b[1;31m---------------------------------------------------------------------------\u001b[0m",
      "\u001b[1;31mIndexError\u001b[0m                                Traceback (most recent call last)",
      "\u001b[1;32m<ipython-input-147-ecf2f47f9615>\u001b[0m in \u001b[0;36m<module>\u001b[1;34m\u001b[0m\n\u001b[0;32m      9\u001b[0m \u001b[1;32mfor\u001b[0m \u001b[0mi\u001b[0m \u001b[1;32min\u001b[0m \u001b[0mrange\u001b[0m\u001b[1;33m(\u001b[0m\u001b[0mdelta\u001b[0m\u001b[1;33m.\u001b[0m\u001b[0mdays\u001b[0m \u001b[1;33m+\u001b[0m \u001b[1;36m1\u001b[0m\u001b[1;33m)\u001b[0m\u001b[1;33m:\u001b[0m\u001b[1;33m\u001b[0m\u001b[1;33m\u001b[0m\u001b[0m\n\u001b[0;32m     10\u001b[0m     \u001b[0mday\u001b[0m \u001b[1;33m=\u001b[0m \u001b[0msdate\u001b[0m \u001b[1;33m+\u001b[0m \u001b[0mtimedelta\u001b[0m\u001b[1;33m(\u001b[0m\u001b[0mdays\u001b[0m\u001b[1;33m=\u001b[0m\u001b[0mi\u001b[0m\u001b[1;33m)\u001b[0m\u001b[1;33m\u001b[0m\u001b[1;33m\u001b[0m\u001b[0m\n\u001b[1;32m---> 11\u001b[1;33m     \u001b[0mtmp\u001b[0m \u001b[1;33m=\u001b[0m \u001b[0mstr\u001b[0m\u001b[1;33m(\u001b[0m\u001b[0mday\u001b[0m\u001b[1;33m)\u001b[0m\u001b[1;33m,\u001b[0m\u001b[0mstr\u001b[0m\u001b[1;33m(\u001b[0m\u001b[0mpredictions\u001b[0m\u001b[1;33m[\u001b[0m\u001b[0mi\u001b[0m\u001b[1;33m]\u001b[0m\u001b[1;33m)\u001b[0m\u001b[1;33m[\u001b[0m\u001b[1;36m1\u001b[0m\u001b[1;33m:\u001b[0m\u001b[1;36m7\u001b[0m\u001b[1;33m]\u001b[0m\u001b[1;33m\u001b[0m\u001b[1;33m\u001b[0m\u001b[0m\n\u001b[0m\u001b[0;32m     12\u001b[0m     \u001b[0mprint\u001b[0m\u001b[1;33m(\u001b[0m\u001b[0mtmp\u001b[0m\u001b[1;33m)\u001b[0m\u001b[1;33m\u001b[0m\u001b[1;33m\u001b[0m\u001b[0m\n\u001b[0;32m     13\u001b[0m     \u001b[0mdf_result\u001b[0m\u001b[1;33m.\u001b[0m\u001b[0mloc\u001b[0m\u001b[1;33m[\u001b[0m\u001b[0mi\u001b[0m\u001b[1;33m]\u001b[0m \u001b[1;33m=\u001b[0m \u001b[0mtmp\u001b[0m\u001b[1;33m\u001b[0m\u001b[1;33m\u001b[0m\u001b[0m\n",
      "\u001b[1;31mIndexError\u001b[0m: list index out of range"
     ]
    }
   ],
   "source": [
    "# create output\n",
    "sdate = date(2020, 4, 1)   # start date\n",
    "edate = date(2020, 5, 22)   # end date\n",
    "\n",
    "delta = edate - sdate       # as timedelta\n",
    "\n",
    "df_result = pd.DataFrame(columns=['Date', 'Price'])\n",
    "\n",
    "for i in range(delta.days + 1):\n",
    "    day = sdate + timedelta(days=i)\n",
    "    tmp = str(day),str(predictions[i])[1:7]\n",
    "    print(tmp)\n",
    "    df_result.loc[i] = tmp\n",
    "    \n",
    "    "
   ]
  },
  {
   "cell_type": "code",
   "execution_count": 148,
   "metadata": {},
   "outputs": [],
   "source": [
    "df_result.to_csv(\"submission1.csv\")"
   ]
  },
  {
   "cell_type": "code",
   "execution_count": null,
   "metadata": {},
   "outputs": [],
   "source": []
  }
 ],
 "metadata": {
  "kernelspec": {
   "display_name": "Python 3",
   "language": "python",
   "name": "python3"
  },
  "language_info": {
   "codemirror_mode": {
    "name": "ipython",
    "version": 3
   },
   "file_extension": ".py",
   "mimetype": "text/x-python",
   "name": "python",
   "nbconvert_exporter": "python",
   "pygments_lexer": "ipython3",
   "version": "3.7.3"
  }
 },
 "nbformat": 4,
 "nbformat_minor": 4
}
